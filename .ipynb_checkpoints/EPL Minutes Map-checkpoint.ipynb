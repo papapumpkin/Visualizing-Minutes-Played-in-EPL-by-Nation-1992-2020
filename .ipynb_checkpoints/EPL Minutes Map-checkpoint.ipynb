{
 "cells": [
  {
   "cell_type": "code",
   "execution_count": 1,
   "metadata": {},
   "outputs": [
    {
     "name": "stdout",
     "output_type": "stream",
     "text": [
      "Requirement already satisfied: folium in /opt/anaconda3/lib/python3.7/site-packages (0.10.1)\n",
      "Requirement already satisfied: requests in /opt/anaconda3/lib/python3.7/site-packages (from folium) (2.22.0)\n",
      "Requirement already satisfied: branca>=0.3.0 in /opt/anaconda3/lib/python3.7/site-packages (from folium) (0.3.1)\n",
      "Requirement already satisfied: jinja2>=2.9 in /opt/anaconda3/lib/python3.7/site-packages (from folium) (2.10.3)\n",
      "Requirement already satisfied: numpy in /opt/anaconda3/lib/python3.7/site-packages (from folium) (1.17.2)\n",
      "Requirement already satisfied: urllib3!=1.25.0,!=1.25.1,<1.26,>=1.21.1 in /opt/anaconda3/lib/python3.7/site-packages (from requests->folium) (1.24.2)\n",
      "Requirement already satisfied: chardet<3.1.0,>=3.0.2 in /opt/anaconda3/lib/python3.7/site-packages (from requests->folium) (3.0.4)\n",
      "Requirement already satisfied: idna<2.9,>=2.5 in /opt/anaconda3/lib/python3.7/site-packages (from requests->folium) (2.8)\n",
      "Requirement already satisfied: certifi>=2017.4.17 in /opt/anaconda3/lib/python3.7/site-packages (from requests->folium) (2019.9.11)\n",
      "Requirement already satisfied: six in /opt/anaconda3/lib/python3.7/site-packages (from branca>=0.3.0->folium) (1.12.0)\n",
      "Requirement already satisfied: MarkupSafe>=0.23 in /opt/anaconda3/lib/python3.7/site-packages (from jinja2>=2.9->folium) (1.1.1)\n",
      "Note: you may need to restart the kernel to use updated packages.\n"
     ]
    }
   ],
   "source": [
    "pip install folium"
   ]
  },
  {
   "cell_type": "code",
   "execution_count": 2,
   "metadata": {},
   "outputs": [],
   "source": [
    "import numpy as np\n",
    "import pandas as pd\n",
    "import folium\n",
    "import json\n",
    "\n",
    "\n",
    "seasons = pd.read_csv('Mins_EPL_1992-2019.csv')\n",
    "\n",
    "with open('worldmap.json') as worldmap:\n",
    "    worldmap = json.load(worldmap)\n"
   ]
  },
  {
   "cell_type": "code",
   "execution_count": 3,
   "metadata": {},
   "outputs": [
    {
     "data": {
      "text/html": [
       "<div>\n",
       "<style scoped>\n",
       "    .dataframe tbody tr th:only-of-type {\n",
       "        vertical-align: middle;\n",
       "    }\n",
       "\n",
       "    .dataframe tbody tr th {\n",
       "        vertical-align: top;\n",
       "    }\n",
       "\n",
       "    .dataframe thead th {\n",
       "        text-align: right;\n",
       "    }\n",
       "</style>\n",
       "<table border=\"1\" class=\"dataframe\">\n",
       "  <thead>\n",
       "    <tr style=\"text-align: right;\">\n",
       "      <th></th>\n",
       "      <th>Rk</th>\n",
       "      <th>Nation</th>\n",
       "      <th># Players</th>\n",
       "      <th>Min</th>\n",
       "      <th>List</th>\n",
       "      <th>Year</th>\n",
       "    </tr>\n",
       "  </thead>\n",
       "  <tbody>\n",
       "    <tr>\n",
       "      <td>0</td>\n",
       "      <td>1</td>\n",
       "      <td>eng England</td>\n",
       "      <td>188</td>\n",
       "      <td>120738.0</td>\n",
       "      <td>Jamie Vardy Marcus Rashford Tammy Abraham Harr...</td>\n",
       "      <td>2019-2020</td>\n",
       "    </tr>\n",
       "    <tr>\n",
       "      <td>1</td>\n",
       "      <td>2</td>\n",
       "      <td>fr France</td>\n",
       "      <td>31</td>\n",
       "      <td>24181.0</td>\n",
       "      <td>Neal Maupay Sébastien Haller Lucas Digne Mouss...</td>\n",
       "      <td>2019-2020</td>\n",
       "    </tr>\n",
       "    <tr>\n",
       "      <td>2</td>\n",
       "      <td>3</td>\n",
       "      <td>es Spain</td>\n",
       "      <td>29</td>\n",
       "      <td>24379.0</td>\n",
       "      <td>Adama Traoré David Silva Gerard Deulofeu Jonny...</td>\n",
       "      <td>2019-2020</td>\n",
       "    </tr>\n",
       "    <tr>\n",
       "      <td>3</td>\n",
       "      <td>4</td>\n",
       "      <td>ie Ireland</td>\n",
       "      <td>23</td>\n",
       "      <td>11952.0</td>\n",
       "      <td>Enda Stevens John Egan Jeff Hendrick Matt Dohe...</td>\n",
       "      <td>2019-2020</td>\n",
       "    </tr>\n",
       "    <tr>\n",
       "      <td>4</td>\n",
       "      <td>5</td>\n",
       "      <td>br Brazil</td>\n",
       "      <td>21</td>\n",
       "      <td>19652.0</td>\n",
       "      <td>Richarlison Roberto Firmino Wesley Moraes Will...</td>\n",
       "      <td>2019-2020</td>\n",
       "    </tr>\n",
       "    <tr>\n",
       "      <td>...</td>\n",
       "      <td>...</td>\n",
       "      <td>...</td>\n",
       "      <td>...</td>\n",
       "      <td>...</td>\n",
       "      <td>...</td>\n",
       "      <td>...</td>\n",
       "    </tr>\n",
       "    <tr>\n",
       "      <td>1635</td>\n",
       "      <td>24</td>\n",
       "      <td>il Israel</td>\n",
       "      <td>1</td>\n",
       "      <td>1404.0</td>\n",
       "      <td>Ronny Rosenthal</td>\n",
       "      <td>1992-1993</td>\n",
       "    </tr>\n",
       "    <tr>\n",
       "      <td>1636</td>\n",
       "      <td>25</td>\n",
       "      <td>cz Czech Republic</td>\n",
       "      <td>1</td>\n",
       "      <td>1288.0</td>\n",
       "      <td>Jan Stejskal</td>\n",
       "      <td>1992-1993</td>\n",
       "    </tr>\n",
       "    <tr>\n",
       "      <td>1637</td>\n",
       "      <td>26</td>\n",
       "      <td>kn Saint Kitts and Nevis</td>\n",
       "      <td>1</td>\n",
       "      <td>412.0</td>\n",
       "      <td>Bobby Bowry</td>\n",
       "      <td>1992-1993</td>\n",
       "    </tr>\n",
       "    <tr>\n",
       "      <td>1638</td>\n",
       "      <td>27</td>\n",
       "      <td>ng Nigeria</td>\n",
       "      <td>1</td>\n",
       "      <td>111.0</td>\n",
       "      <td>Efan Ekoku</td>\n",
       "      <td>1992-1993</td>\n",
       "    </tr>\n",
       "    <tr>\n",
       "      <td>1639</td>\n",
       "      <td>28</td>\n",
       "      <td>hu Hungary</td>\n",
       "      <td>1</td>\n",
       "      <td>9.0</td>\n",
       "      <td>István Kozma</td>\n",
       "      <td>1992-1993</td>\n",
       "    </tr>\n",
       "  </tbody>\n",
       "</table>\n",
       "<p>1640 rows × 6 columns</p>\n",
       "</div>"
      ],
      "text/plain": [
       "      Rk                    Nation  # Players       Min  \\\n",
       "0      1               eng England        188  120738.0   \n",
       "1      2                 fr France         31   24181.0   \n",
       "2      3                  es Spain         29   24379.0   \n",
       "3      4                ie Ireland         23   11952.0   \n",
       "4      5                 br Brazil         21   19652.0   \n",
       "...   ..                       ...        ...       ...   \n",
       "1635  24                 il Israel          1    1404.0   \n",
       "1636  25         cz Czech Republic          1    1288.0   \n",
       "1637  26  kn Saint Kitts and Nevis          1     412.0   \n",
       "1638  27                ng Nigeria          1     111.0   \n",
       "1639  28                hu Hungary          1       9.0   \n",
       "\n",
       "                                                   List       Year  \n",
       "0     Jamie Vardy Marcus Rashford Tammy Abraham Harr...  2019-2020  \n",
       "1     Neal Maupay Sébastien Haller Lucas Digne Mouss...  2019-2020  \n",
       "2     Adama Traoré David Silva Gerard Deulofeu Jonny...  2019-2020  \n",
       "3     Enda Stevens John Egan Jeff Hendrick Matt Dohe...  2019-2020  \n",
       "4     Richarlison Roberto Firmino Wesley Moraes Will...  2019-2020  \n",
       "...                                                 ...        ...  \n",
       "1635                                    Ronny Rosenthal  1992-1993  \n",
       "1636                                       Jan Stejskal  1992-1993  \n",
       "1637                                        Bobby Bowry  1992-1993  \n",
       "1638                                         Efan Ekoku  1992-1993  \n",
       "1639                                       István Kozma  1992-1993  \n",
       "\n",
       "[1640 rows x 6 columns]"
      ]
     },
     "execution_count": 3,
     "metadata": {},
     "output_type": "execute_result"
    }
   ],
   "source": [
    "seasons"
   ]
  },
  {
   "cell_type": "code",
   "execution_count": 4,
   "metadata": {},
   "outputs": [
    {
     "name": "stdout",
     "output_type": "stream",
     "text": [
      "<class 'pandas.core.frame.DataFrame'>\n",
      "RangeIndex: 1640 entries, 0 to 1639\n",
      "Data columns (total 6 columns):\n",
      "Rk           1640 non-null int64\n",
      "Nation       1640 non-null object\n",
      "# Players    1640 non-null int64\n",
      "Min          1627 non-null float64\n",
      "List         1640 non-null object\n",
      "Year         1640 non-null object\n",
      "dtypes: float64(1), int64(2), object(3)\n",
      "memory usage: 77.0+ KB\n"
     ]
    }
   ],
   "source": [
    "seasons.info()"
   ]
  },
  {
   "cell_type": "code",
   "execution_count": 5,
   "metadata": {},
   "outputs": [],
   "source": [
    "seasons['Min'] = seasons['Min'].fillna(0)"
   ]
  },
  {
   "cell_type": "code",
   "execution_count": 6,
   "metadata": {},
   "outputs": [
    {
     "data": {
      "text/plain": [
       "0.0        13\n",
       "3420.0      5\n",
       "90.0        5\n",
       "900.0       4\n",
       "360.0       4\n",
       "           ..\n",
       "49835.0     1\n",
       "475.0       1\n",
       "4707.0      1\n",
       "1404.0      1\n",
       "8112.0      1\n",
       "Name: Min, Length: 1506, dtype: int64"
      ]
     },
     "execution_count": 6,
     "metadata": {},
     "output_type": "execute_result"
    }
   ],
   "source": [
    "seasons['Min'].value_counts()"
   ]
  },
  {
   "cell_type": "code",
   "execution_count": 7,
   "metadata": {},
   "outputs": [
    {
     "data": {
      "text/plain": [
       "0                     England\n",
       "1                      France\n",
       "2                       Spain\n",
       "3                     Ireland\n",
       "4                      Brazil\n",
       "                ...          \n",
       "1635                   Israel\n",
       "1636           Czech Republic\n",
       "1637    Saint Kitts and Nevis\n",
       "1638                  Nigeria\n",
       "1639                  Hungary\n",
       "Name: Nation, Length: 1640, dtype: object"
      ]
     },
     "execution_count": 7,
     "metadata": {},
     "output_type": "execute_result"
    }
   ],
   "source": [
    "def clean_nations(s):  #function to remove abbreviated nation name in front of Nation\n",
    "    names = s.str.split(' ')\n",
    "    counter = 0\n",
    "    for i in names:\n",
    "        del i[0]\n",
    "        i = ' '.join(i)\n",
    "        names[counter]=i\n",
    "        counter+=1\n",
    "    return names\n",
    "\n",
    "\n",
    "seasons['Nation']=clean_nations(seasons['Nation'])\n",
    "\n",
    "seasons['Nation'].astype(np.unicode_)\n",
    "\n",
    "#seasons['Nation'] = seasons['Nation'].astype(str)\n",
    "\n",
    "#seasons['Nation']"
   ]
  },
  {
   "cell_type": "code",
   "execution_count": 13,
   "metadata": {},
   "outputs": [],
   "source": [
    "change_map = {}\n",
    "\n",
    "for country in worldmap[\"features\"]: #get country codes from JSON file\n",
    "    change_map[country[\"properties\"][\"name\"]] = country[\"id\"]\n",
    "\n",
    "codes = seasons['Nation'].map(change_map) #map country codes into new column in dataframe\n",
    "codes = codes.fillna('GBR')\n",
    "seasons['Country_Codes'] = codes"
   ]
  },
  {
   "cell_type": "code",
   "execution_count": 9,
   "metadata": {},
   "outputs": [],
   "source": [
    "twenty_eighteen = seasons.iloc[61:128] #isolate 2018-2019 season for testing purposes"
   ]
  },
  {
   "cell_type": "code",
   "execution_count": 14,
   "metadata": {
    "scrolled": false
   },
   "outputs": [
    {
     "ename": "NameError",
     "evalue": "name 'show' is not defined",
     "output_type": "error",
     "traceback": [
      "\u001b[0;31m---------------------------------------------------------------------------\u001b[0m",
      "\u001b[0;31mNameError\u001b[0m                                 Traceback (most recent call last)",
      "\u001b[0;32m<ipython-input-14-a9121a293b6c>\u001b[0m in \u001b[0;36m<module>\u001b[0;34m\u001b[0m\n\u001b[1;32m     13\u001b[0m ).add_to(m)\n\u001b[1;32m     14\u001b[0m \u001b[0;34m\u001b[0m\u001b[0m\n\u001b[0;32m---> 15\u001b[0;31m \u001b[0mshow\u001b[0m\u001b[0;34m(\u001b[0m\u001b[0mm\u001b[0m\u001b[0;34m)\u001b[0m\u001b[0;34m\u001b[0m\u001b[0;34m\u001b[0m\u001b[0m\n\u001b[0m",
      "\u001b[0;31mNameError\u001b[0m: name 'show' is not defined"
     ]
    }
   ],
   "source": [
    "m = folium.Map(location=[20, -0], zoom_start=2) #create folium map instance\n",
    "folium.Choropleth(\n",
    "    geo_data=worldmap,\n",
    "    name='choropleth',\n",
    "    data=twenty_eighteen,\n",
    "    columns=['Country_Codes', 'Min'],\n",
    "    key_on='feature.id',\n",
    "    fill_color='YlGn',\n",
    "    nan_fill_color='white',\n",
    "    fill_opacity=0.7,\n",
    "    line_opacity=0.2,\n",
    "    legend_name='Minutes Played'\n",
    ").add_to(m)\n",
    "\n",
    "m"
   ]
  },
  {
   "cell_type": "markdown",
   "metadata": {},
   "source": [
    "# Follow this link to view the map:\n",
    "https://nbviewer.jupyter.org/github/papapumpkin/Visualizing-Minutes-Played-in-EPL-by-Nation-1992-2020/blob/master/EPL%20Minutes%20Map.ipynb"
   ]
  },
  {
   "cell_type": "code",
   "execution_count": null,
   "metadata": {},
   "outputs": [],
   "source": []
  }
 ],
 "metadata": {
  "kernelspec": {
   "display_name": "Python 3",
   "language": "python",
   "name": "python3"
  },
  "language_info": {
   "codemirror_mode": {
    "name": "ipython",
    "version": 3
   },
   "file_extension": ".py",
   "mimetype": "text/x-python",
   "name": "python",
   "nbconvert_exporter": "python",
   "pygments_lexer": "ipython3",
   "version": "3.7.4"
  }
 },
 "nbformat": 4,
 "nbformat_minor": 2
}
